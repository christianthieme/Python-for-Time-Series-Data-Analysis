{
 "metadata": {
  "language_info": {
   "codemirror_mode": {
    "name": "ipython",
    "version": 3
   },
   "file_extension": ".py",
   "mimetype": "text/x-python",
   "name": "python",
   "nbconvert_exporter": "python",
   "pygments_lexer": "ipython3",
   "version": "3.7.6"
  },
  "orig_nbformat": 2,
  "kernelspec": {
   "name": "python376jvsc74a57bd0c72a629dba5ae9edebcad565c17c3988d814021371aabb3db62cb04d2b10dbfe",
   "display_name": "Python 3.7.6 64-bit ('base': conda)"
  }
 },
 "nbformat": 4,
 "nbformat_minor": 2,
 "cells": [
  {
   "source": [
    "# Datetime Index with Pandas"
   ],
   "cell_type": "markdown",
   "metadata": {}
  },
  {
   "cell_type": "code",
   "execution_count": 2,
   "metadata": {},
   "outputs": [],
   "source": [
    "from datetime import datetime"
   ]
  },
  {
   "cell_type": "code",
   "execution_count": 3,
   "metadata": {},
   "outputs": [],
   "source": [
    "my_year = 2020\n",
    "my_month = 1\n",
    "my_day = 2\n",
    "my_hour = 13 #24 hour format\n",
    "my_min = 30\n",
    "my_sec = 15"
   ]
  },
  {
   "cell_type": "code",
   "execution_count": 4,
   "metadata": {},
   "outputs": [],
   "source": [
    "my_date = datetime(my_year, my_month, my_day)"
   ]
  },
  {
   "cell_type": "code",
   "execution_count": 5,
   "metadata": {},
   "outputs": [
    {
     "output_type": "execute_result",
     "data": {
      "text/plain": [
       "datetime.datetime(2020, 1, 2, 0, 0)"
      ]
     },
     "metadata": {},
     "execution_count": 5
    }
   ],
   "source": [
    "my_date"
   ]
  },
  {
   "cell_type": "code",
   "execution_count": 6,
   "metadata": {},
   "outputs": [
    {
     "output_type": "execute_result",
     "data": {
      "text/plain": [
       "datetime.datetime(2020, 1, 2, 13, 30, 15)"
      ]
     },
     "metadata": {},
     "execution_count": 6
    }
   ],
   "source": [
    "my_date_time = datetime(my_year, my_month, my_day, my_hour, my_min, my_sec)\n",
    "my_date_time"
   ]
  },
  {
   "cell_type": "code",
   "execution_count": 7,
   "metadata": {},
   "outputs": [
    {
     "output_type": "execute_result",
     "data": {
      "text/plain": [
       "2"
      ]
     },
     "metadata": {},
     "execution_count": 7
    }
   ],
   "source": [
    "#Can look at a specific attribute\n",
    "my_date_time.day"
   ]
  },
  {
   "cell_type": "code",
   "execution_count": 8,
   "metadata": {},
   "outputs": [],
   "source": [
    "import numpy as np "
   ]
  },
  {
   "cell_type": "code",
   "execution_count": 9,
   "metadata": {},
   "outputs": [
    {
     "output_type": "execute_result",
     "data": {
      "text/plain": [
       "array(['2020-03-15', '2020-03-16', '2020-03-17'], dtype='datetime64[D]')"
      ]
     },
     "metadata": {},
     "execution_count": 9
    }
   ],
   "source": [
    "#looking at dates with numpy\n",
    "np.array(['2020-03-15','2020-03-16','2020-03-17'], dtype = 'datetime64')"
   ]
  },
  {
   "cell_type": "code",
   "execution_count": 10,
   "metadata": {},
   "outputs": [
    {
     "output_type": "execute_result",
     "data": {
      "text/plain": [
       "array([0, 2, 4, 6, 8])"
      ]
     },
     "metadata": {},
     "execution_count": 10
    }
   ],
   "source": [
    "np.arange(0,10,2)"
   ]
  },
  {
   "cell_type": "code",
   "execution_count": 11,
   "metadata": {},
   "outputs": [
    {
     "output_type": "execute_result",
     "data": {
      "text/plain": [
       "array(['2018-06-01', '2018-06-08', '2018-06-15', '2018-06-22'],\n",
       "      dtype='datetime64[D]')"
      ]
     },
     "metadata": {},
     "execution_count": 11
    }
   ],
   "source": [
    "#You can create ranges using numpys `arange()` function\n",
    "np.arange('2018-06-01','2018-06-23', 7, dtype = 'datetime64[D]')"
   ]
  },
  {
   "cell_type": "code",
   "execution_count": 12,
   "metadata": {},
   "outputs": [
    {
     "output_type": "execute_result",
     "data": {
      "text/plain": [
       "DatetimeIndex(['2020-01-01', '2020-01-02', '2020-01-03', '2020-01-04',\n",
       "               '2020-01-05', '2020-01-06', '2020-01-07'],\n",
       "              dtype='datetime64[ns]', freq='D')"
      ]
     },
     "metadata": {},
     "execution_count": 12
    }
   ],
   "source": [
    "import pandas as pd \n",
    "pd.date_range('2020-01-01', periods = 7, freq = 'D')"
   ]
  },
  {
   "cell_type": "code",
   "execution_count": 13,
   "metadata": {},
   "outputs": [
    {
     "output_type": "execute_result",
     "data": {
      "text/plain": [
       "DatetimeIndex(['2018-01-01', '2018-01-02', '2018-01-03', '2018-01-04',\n",
       "               '2018-01-05', '2018-01-06', '2018-01-07'],\n",
       "              dtype='datetime64[ns]', freq='D')"
      ]
     },
     "metadata": {},
     "execution_count": 13
    }
   ],
   "source": [
    "#pandas is really good at inferring string codes as well\n",
    "pd.date_range('Jan 01, 2018', periods = 7, freq = 'D')"
   ]
  },
  {
   "cell_type": "code",
   "execution_count": 14,
   "metadata": {},
   "outputs": [
    {
     "output_type": "execute_result",
     "data": {
      "text/plain": [
       "DatetimeIndex(['2018-01-02', '2018-01-03'], dtype='datetime64[ns]', freq=None)"
      ]
     },
     "metadata": {},
     "execution_count": 14
    }
   ],
   "source": [
    "pd.to_datetime(['1/2/2018','Jan 03, 2018'])"
   ]
  },
  {
   "cell_type": "code",
   "execution_count": 15,
   "metadata": {},
   "outputs": [
    {
     "output_type": "execute_result",
     "data": {
      "text/plain": [
       "DatetimeIndex(['2018-02-01', '2018-03-01'], dtype='datetime64[ns]', freq=None)"
      ]
     },
     "metadata": {},
     "execution_count": 15
    }
   ],
   "source": [
    "#using format to look at Europian time -- day, month, year\n",
    "pd.to_datetime(['1/2/2018','1/3/2018'], format= '%d/%m/%Y')"
   ]
  },
  {
   "cell_type": "code",
   "execution_count": 16,
   "metadata": {},
   "outputs": [
    {
     "output_type": "stream",
     "name": "stdout",
     "text": [
      "[[-0.76721663 -1.41347896]\n [-0.22150687 -0.20794818]\n [-1.23448939  1.20482746]]\n"
     ]
    }
   ],
   "source": [
    "data = np.random.randn(3,2)\n",
    "cols = ['A', 'B']\n",
    "print(data)"
   ]
  },
  {
   "cell_type": "code",
   "execution_count": 17,
   "metadata": {},
   "outputs": [
    {
     "output_type": "execute_result",
     "data": {
      "text/plain": [
       "                   A         B\n",
       "2020-01-01 -0.767217 -1.413479\n",
       "2020-01-02 -0.221507 -0.207948\n",
       "2020-01-03 -1.234489  1.204827"
      ],
      "text/html": "<div>\n<style scoped>\n    .dataframe tbody tr th:only-of-type {\n        vertical-align: middle;\n    }\n\n    .dataframe tbody tr th {\n        vertical-align: top;\n    }\n\n    .dataframe thead th {\n        text-align: right;\n    }\n</style>\n<table border=\"1\" class=\"dataframe\">\n  <thead>\n    <tr style=\"text-align: right;\">\n      <th></th>\n      <th>A</th>\n      <th>B</th>\n    </tr>\n  </thead>\n  <tbody>\n    <tr>\n      <th>2020-01-01</th>\n      <td>-0.767217</td>\n      <td>-1.413479</td>\n    </tr>\n    <tr>\n      <th>2020-01-02</th>\n      <td>-0.221507</td>\n      <td>-0.207948</td>\n    </tr>\n    <tr>\n      <th>2020-01-03</th>\n      <td>-1.234489</td>\n      <td>1.204827</td>\n    </tr>\n  </tbody>\n</table>\n</div>"
     },
     "metadata": {},
     "execution_count": 17
    }
   ],
   "source": [
    "idx = pd.date_range('2020-01-01',periods=3, freq = 'D')\n",
    "df = pd.DataFrame(data, index = idx, columns = cols)\n",
    "df"
   ]
  },
  {
   "cell_type": "code",
   "execution_count": 18,
   "metadata": {},
   "outputs": [
    {
     "output_type": "execute_result",
     "data": {
      "text/plain": [
       "DatetimeIndex(['2020-01-01', '2020-01-02', '2020-01-03'], dtype='datetime64[ns]', freq='D')"
      ]
     },
     "metadata": {},
     "execution_count": 18
    }
   ],
   "source": [
    "df.index"
   ]
  },
  {
   "cell_type": "code",
   "execution_count": 19,
   "metadata": {},
   "outputs": [],
   "source": [
    "#Above you can see that these are datetime values"
   ]
  },
  {
   "cell_type": "code",
   "execution_count": 20,
   "metadata": {},
   "outputs": [
    {
     "output_type": "stream",
     "name": "stdout",
     "text": [
      "2020-01-03 00:00:00\n2\n"
     ]
    }
   ],
   "source": [
    "print(df.index.max())\n",
    "print(df.index.argmax())"
   ]
  },
  {
   "source": [
    "## Time Resampling"
   ],
   "cell_type": "markdown",
   "metadata": {}
  },
  {
   "cell_type": "code",
   "execution_count": 24,
   "metadata": {},
   "outputs": [
    {
     "output_type": "execute_result",
     "data": {
      "text/plain": [
       "              Close    Volume\n",
       "Date                         \n",
       "2015-01-02  38.0061   6906098\n",
       "2015-01-05  37.2781  11623796\n",
       "2015-01-06  36.9748   7664340\n",
       "2015-01-07  37.8848   9732554\n",
       "2015-01-08  38.4961  13170548\n",
       "...             ...       ...\n",
       "2018-12-24  60.5600   6323252\n",
       "2018-12-26  63.0800  16646238\n",
       "2018-12-27  63.2000  11308081\n",
       "2018-12-28  63.3900   7712127\n",
       "2018-12-31  64.4000   7690183\n",
       "\n",
       "[1006 rows x 2 columns]"
      ],
      "text/html": "<div>\n<style scoped>\n    .dataframe tbody tr th:only-of-type {\n        vertical-align: middle;\n    }\n\n    .dataframe tbody tr th {\n        vertical-align: top;\n    }\n\n    .dataframe thead th {\n        text-align: right;\n    }\n</style>\n<table border=\"1\" class=\"dataframe\">\n  <thead>\n    <tr style=\"text-align: right;\">\n      <th></th>\n      <th>Close</th>\n      <th>Volume</th>\n    </tr>\n    <tr>\n      <th>Date</th>\n      <th></th>\n      <th></th>\n    </tr>\n  </thead>\n  <tbody>\n    <tr>\n      <th>2015-01-02</th>\n      <td>38.0061</td>\n      <td>6906098</td>\n    </tr>\n    <tr>\n      <th>2015-01-05</th>\n      <td>37.2781</td>\n      <td>11623796</td>\n    </tr>\n    <tr>\n      <th>2015-01-06</th>\n      <td>36.9748</td>\n      <td>7664340</td>\n    </tr>\n    <tr>\n      <th>2015-01-07</th>\n      <td>37.8848</td>\n      <td>9732554</td>\n    </tr>\n    <tr>\n      <th>2015-01-08</th>\n      <td>38.4961</td>\n      <td>13170548</td>\n    </tr>\n    <tr>\n      <th>...</th>\n      <td>...</td>\n      <td>...</td>\n    </tr>\n    <tr>\n      <th>2018-12-24</th>\n      <td>60.5600</td>\n      <td>6323252</td>\n    </tr>\n    <tr>\n      <th>2018-12-26</th>\n      <td>63.0800</td>\n      <td>16646238</td>\n    </tr>\n    <tr>\n      <th>2018-12-27</th>\n      <td>63.2000</td>\n      <td>11308081</td>\n    </tr>\n    <tr>\n      <th>2018-12-28</th>\n      <td>63.3900</td>\n      <td>7712127</td>\n    </tr>\n    <tr>\n      <th>2018-12-31</th>\n      <td>64.4000</td>\n      <td>7690183</td>\n    </tr>\n  </tbody>\n</table>\n<p>1006 rows × 2 columns</p>\n</div>"
     },
     "metadata": {},
     "execution_count": 24
    }
   ],
   "source": [
    "df = pd.read_csv(r'C:\\Users\\chris\\OneDrive\\Personal Python Projects\\UDEMY_TSA_FINAL\\Data\\starbucks.csv', index_col = 'Date', parse_dates= True)\n",
    "df"
   ]
  },
  {
   "cell_type": "code",
   "execution_count": 25,
   "metadata": {},
   "outputs": [
    {
     "output_type": "execute_result",
     "data": {
      "text/plain": [
       "                Close        Volume\n",
       "Date                               \n",
       "2015-12-31  50.078100  8.649190e+06\n",
       "2016-12-31  53.891732  9.300633e+06\n",
       "2017-12-31  55.457310  9.296078e+06\n",
       "2018-12-31  56.870005  1.122883e+07"
      ],
      "text/html": "<div>\n<style scoped>\n    .dataframe tbody tr th:only-of-type {\n        vertical-align: middle;\n    }\n\n    .dataframe tbody tr th {\n        vertical-align: top;\n    }\n\n    .dataframe thead th {\n        text-align: right;\n    }\n</style>\n<table border=\"1\" class=\"dataframe\">\n  <thead>\n    <tr style=\"text-align: right;\">\n      <th></th>\n      <th>Close</th>\n      <th>Volume</th>\n    </tr>\n    <tr>\n      <th>Date</th>\n      <th></th>\n      <th></th>\n    </tr>\n  </thead>\n  <tbody>\n    <tr>\n      <th>2015-12-31</th>\n      <td>50.078100</td>\n      <td>8.649190e+06</td>\n    </tr>\n    <tr>\n      <th>2016-12-31</th>\n      <td>53.891732</td>\n      <td>9.300633e+06</td>\n    </tr>\n    <tr>\n      <th>2017-12-31</th>\n      <td>55.457310</td>\n      <td>9.296078e+06</td>\n    </tr>\n    <tr>\n      <th>2018-12-31</th>\n      <td>56.870005</td>\n      <td>1.122883e+07</td>\n    </tr>\n  </tbody>\n</table>\n</div>"
     },
     "metadata": {},
     "execution_count": 25
    }
   ],
   "source": [
    "#resample daily to yearly\n",
    "df.resample(rule = 'A').mean()"
   ]
  },
  {
   "cell_type": "code",
   "execution_count": 26,
   "metadata": {},
   "outputs": [],
   "source": [
    "def first_day(entry): \n",
    "    #is there an entry? \n",
    "    if len(entry) != 0: \n",
    "        #if so return first entry\n",
    "        return entry[0]"
   ]
  },
  {
   "cell_type": "code",
   "execution_count": 28,
   "metadata": {},
   "outputs": [
    {
     "output_type": "execute_result",
     "data": {
      "text/plain": [
       "              Close    Volume\n",
       "Date                         \n",
       "2015-12-31  38.0061   6906098\n",
       "2016-12-31  55.0780  13521544\n",
       "2017-12-31  53.1100   7809307\n",
       "2018-12-31  56.3243   7215978"
      ],
      "text/html": "<div>\n<style scoped>\n    .dataframe tbody tr th:only-of-type {\n        vertical-align: middle;\n    }\n\n    .dataframe tbody tr th {\n        vertical-align: top;\n    }\n\n    .dataframe thead th {\n        text-align: right;\n    }\n</style>\n<table border=\"1\" class=\"dataframe\">\n  <thead>\n    <tr style=\"text-align: right;\">\n      <th></th>\n      <th>Close</th>\n      <th>Volume</th>\n    </tr>\n    <tr>\n      <th>Date</th>\n      <th></th>\n      <th></th>\n    </tr>\n  </thead>\n  <tbody>\n    <tr>\n      <th>2015-12-31</th>\n      <td>38.0061</td>\n      <td>6906098</td>\n    </tr>\n    <tr>\n      <th>2016-12-31</th>\n      <td>55.0780</td>\n      <td>13521544</td>\n    </tr>\n    <tr>\n      <th>2017-12-31</th>\n      <td>53.1100</td>\n      <td>7809307</td>\n    </tr>\n    <tr>\n      <th>2018-12-31</th>\n      <td>56.3243</td>\n      <td>7215978</td>\n    </tr>\n  </tbody>\n</table>\n</div>"
     },
     "metadata": {},
     "execution_count": 28
    }
   ],
   "source": [
    "df.resample(rule = 'A').apply(first_day)"
   ]
  },
  {
   "cell_type": "code",
   "execution_count": null,
   "metadata": {},
   "outputs": [],
   "source": []
  }
 ]
}